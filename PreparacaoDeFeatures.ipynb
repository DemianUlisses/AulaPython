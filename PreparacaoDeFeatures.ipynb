{
  "cells": [
    {
      "cell_type": "markdown",
      "metadata": {
        "id": "ZxfDg8mmPiGi"
      },
      "source": [
        "#Regressão -Preparação de features\n",
        "---\n",
        "**Aula Prática 02**: Preparamento de features\n",
        "\n",
        "\n",
        "**Objetivo**Preparar features para serem treinadas em um modelo.\n",
        "\n",
        "\n",
        "Banco de dados:\n",
        "\n",
        "\n",
        "Preço de carros usados\n",
        "\n",
        "\n",
        "[Disponivel no kaggle](https://www.kaggle.com/datasets/rishabhkarn/used-car-dataset/data)\n",
        "\n",
        "\n",
        "[Disponível para download](https://drive.google.com/file/d/1Ny6GypPH4AtJi6CJHmEUEI3KN11hDuGG/view?usp=drive_link)\n",
        "\n",
        "\n",
        "Descrição dos dados:\n",
        "* car_name: nome do carro\n",
        "* registration_year: ano de registro\n",
        "* insurance_validity: tipo de seguro\n",
        "* fuel_type: tipo de combustível\n",
        "* seats: número de assentos\n",
        "* kms_drive: total km dirigidos\n",
        "* ownsership: número de proprietários\n",
        "* transmission: tipo de câmbio\n",
        "* manufacturing_year: ano de fabricação\n",
        "* mileage(kmpl): km por litro\n",
        "* engine (cc): tamanho do motor\n",
        "* max_power(bhp): potência do carro\n",
        "* torque(Nm): torque do motor\n",
        "* price (in lakhs): preço em lakhs (medida indiana para 100.000)"
      ]
    },
    {
      "cell_type": "markdown",
      "metadata": {
        "id": "h_zic1TnPvO4"
      },
      "source": [
        "##Import das principais funções e leitura dos dados\n",
        "\n",
        "\n",
        "---\n"
      ]
    },
    {
      "cell_type": "code",
      "execution_count": null,
      "metadata": {
        "id": "8hv3yiY4Phor"
      },
      "outputs": [],
      "source": [
        "import pandas as pd #pacote para leitura dos dados\n",
        "import numpy as np"
      ]
    },
    {
      "cell_type": "code",
      "execution_count": null,
      "metadata": {
        "id": "XtXVWvXfPzlU"
      },
      "outputs": [],
      "source": [
        "#opção 1 -> montar o drive no colab e acessar o arquivo\n",
        "#from google.colab import drive\n",
        "#drive.mount('/content/drive')\n",
        "\n",
        "\n",
        "#opção 2 -> fazer download e fazer upload por aqui\n",
        "from google.colab import files\n",
        "uploaded = files.upload()"
      ]
    },
    {
      "cell_type": "code",
      "execution_count": null,
      "metadata": {
        "id": "JlkujkTeP1V5"
      },
      "outputs": [],
      "source": [
        "path = 'Used Car Dataset.csv'\n",
        "df = pd.read_csv(path)"
      ]
    },
    {
      "cell_type": "code",
      "execution_count": null,
      "metadata": {
        "id": "HxlNboKCP3bh"
      },
      "outputs": [],
      "source": [
        "df.head()"
      ]
    },
    {
      "cell_type": "code",
      "execution_count": null,
      "metadata": {
        "id": "qYJeYrsoP31w"
      },
      "outputs": [],
      "source": [
        "df.dtypes"
      ]
    },
    {
      "cell_type": "code",
      "execution_count": null,
      "metadata": {
        "id": "Qp0CrUoNQCW-"
      },
      "outputs": [],
      "source": [
        "df = df.rename(columns = {'mileage(kmpl)':'mileage',\n",
        "                          'engine(cc)':'engine',\n",
        "                          'max_power(bhp)': 'max_power',\n",
        "                          'torque(Nm)': 'torque',\n",
        "                          'price(in lakhs)': 'price'})\n",
        "\n",
        "df.drop(columns='Unnamed: 0', inplace=True)"
      ]
    },
    {
      "cell_type": "markdown",
      "metadata": {
        "id": "XSlctAGxP7UE"
      },
      "source": [
        "## Preparação de dados numéricos\n",
        "---\n",
        "Para o processamento das variáveis numéricas faremos o seguinte:\n",
        "\n",
        "- Imputação/exclusão em dados faltantes\n",
        "\n",
        "Para realizar isso utilizaremos a função `fillna`.\n",
        "\n",
        "```python\n",
        "# Preencher dado faltante\n",
        "df['coluna'].fillna(valor)\n",
        "```\n",
        "\n",
        "**Exercícios**:\n",
        "\n",
        "Preencha as variáveis que possuem dados faltantes com a mediana das observações."
      ]
    },
    {
      "cell_type": "code",
      "execution_count": null,
      "metadata": {
        "id": "TFBkPSBTS-LG"
      },
      "outputs": [],
      "source": [
        "df.dtypes"
      ]
    },
    {
      "cell_type": "code",
      "execution_count": null,
      "metadata": {
        "id": "J3SVWH3DS8Je"
      },
      "outputs": [],
      "source": [
        "var_numerica = ['seats', 'kms_driven', 'mileage', 'engine', 'max_power', 'torque']"
      ]
    },
    {
      "cell_type": "code",
      "source": [],
      "metadata": {
        "id": "TcUoPhWgNOw7"
      },
      "execution_count": null,
      "outputs": []
    },
    {
      "cell_type": "markdown",
      "metadata": {
        "id": "g4UtckgAQQva"
      },
      "source": [
        "## Preparação de dados categóricos\n",
        "\n",
        "---\n",
        "Para o processamento das variáveis categóricas iremos transformar as categorias em variáveis numéricas, conhecidas como variáveis dummy.\n",
        "\n",
        "\n",
        "---\n",
        "### Variáveis Dummy\n",
        "\n",
        "Variáveis Dummy é uma representação de uma variável categórica com k categorias em k-1 variáveis, todas as novas variáveis são binárias.\n",
        "\n",
        "\n",
        "Exemplo:\n",
        "Variável faixa de idade, temos três categorias de idades entre 0-18, entre 18-30, entre 30-50 e 50+.\n",
        "Na tabela abaixo na coluna variável original temos a categoria como estava preenchida no campo original, as demais três colunas são as novas variáveis criadas no banco de dados.\n",
        "\n",
        "\n",
        "|Variável original|18-30|30-50|50+|\n",
        "|---|---|---|---|\n",
        "|0-18|0|0|0|\n",
        "|18-30|1|0|0|\n",
        "|30-50|0|1|0|\n",
        "|50+|0|0|1|\n",
        "\n",
        "\n",
        "Obs.: No exemplo acima a categoria entre 0-18 é a categoria **base**.\n",
        "\n",
        "Para criar variáveis dummy iremos utilizar a função get_dummy do pacote Pandas\n",
        "\n",
        "\n",
        "Exemplo:\n",
        "``` python\n",
        "import pandas as pd\n",
        "df_dummy = pd.get_dummies(df, drop_first=True)\n",
        "```\n",
        "Exercícios:\n",
        "\n",
        "\n",
        "\n",
        "Crie uma variável dummy para o conjunto de dados? Notou algum problema na criação das dummys?\n"
      ]
    },
    {
      "cell_type": "code",
      "execution_count": null,
      "metadata": {
        "id": "-vMO_CesTqke"
      },
      "outputs": [],
      "source": [
        "df.dtypes"
      ]
    },
    {
      "cell_type": "code",
      "execution_count": null,
      "metadata": {
        "id": "jC9YRvb6To0R"
      },
      "outputs": [],
      "source": [
        "var_cat = ['registration_year',\n",
        "           'fuel_type',\n",
        "           'ownsership',\n",
        "           'transmission']"
      ]
    },
    {
      "cell_type": "code",
      "execution_count": null,
      "metadata": {
        "id": "AH9WV-CAT_F3"
      },
      "outputs": [],
      "source": [
        "var_cat + var_numerica"
      ]
    },
    {
      "cell_type": "code",
      "execution_count": null,
      "metadata": {
        "id": "Gz6Rv7Ks-2yR"
      },
      "outputs": [],
      "source": [
        "df[var_cat + var_numerica]"
      ]
    },
    {
      "cell_type": "code",
      "source": [],
      "metadata": {
        "id": "MFTJJv4ENNQn"
      },
      "execution_count": null,
      "outputs": []
    },
    {
      "cell_type": "markdown",
      "metadata": {
        "id": "JRPJx7USUC7X"
      },
      "source": [
        "### Limpeza das categorias\n",
        "\n",
        "Iremos agora fazer um processo de limpeza de categorias que foram preenchidas de forma incorreta.\n",
        "\n",
        "1. A variável `registration_year`, ela possui campos preenchidos de forma incorreta, o padrão é o ano ou mês-ano;\n",
        "\n",
        "Para processar essa categoria iremos criar uma função que:\n",
        "1. Checa se o tamanho da variável é diferente de 4, isso é foi preenchido com algo diferente do ano;\n",
        "2. Se é diferente de 4, iremos quebrar a string com - e pegar o ano;\n",
        "3. Caso a operação 2 não ocorrerá será retornado o número 200000\n",
        "\n",
        "Após essa limpeza iremos criar três categorias, carros com registro antes de 2010, entre 2010 e 2020 e após 2020."
      ]
    },
    {
      "cell_type": "code",
      "execution_count": null,
      "metadata": {
        "id": "3oMGl2vlarme"
      },
      "outputs": [],
      "source": [
        "var_cat[0]"
      ]
    },
    {
      "cell_type": "code",
      "execution_count": null,
      "metadata": {
        "id": "wZ4zIRSfUMSQ"
      },
      "outputs": [],
      "source": [
        "df[var_cat[0]].value_counts()"
      ]
    },
    {
      "cell_type": "code",
      "execution_count": null,
      "metadata": {
        "id": "72z5Yq72UrK1"
      },
      "outputs": [],
      "source": [
        "def gera_data(registration_year):\n",
        "  if len(registration_year)!=4:\n",
        "    try:\n",
        "      return '20' + registration_year.split('-')[1]\n",
        "    except:\n",
        "      return '200000'\n",
        "  return registration_year"
      ]
    },
    {
      "cell_type": "code",
      "execution_count": null,
      "metadata": {
        "id": "_cpHs0KiUOKO"
      },
      "outputs": [],
      "source": [
        "df[var_cat[0]].apply(gera_data).value_counts()"
      ]
    },
    {
      "cell_type": "code",
      "execution_count": null,
      "metadata": {
        "id": "mP6umMOOUOFC"
      },
      "outputs": [],
      "source": [
        "df['registration_tratada'] = df[var_cat[0]].apply(gera_data).astype(int)"
      ]
    },
    {
      "cell_type": "code",
      "execution_count": null,
      "metadata": {
        "id": "QplDfdzrVN9s"
      },
      "outputs": [],
      "source": [
        "def categoria_idade(registration_year):\n",
        "  if registration_year < 2010:\n",
        "    return 'antes_2010'\n",
        "  elif registration_year < 2020:\n",
        "    return 'antes 2020'\n",
        "  elif registration_year < 2030:\n",
        "    return 'depois 2020'\n",
        "  else:\n",
        "    return 'None'"
      ]
    },
    {
      "cell_type": "code",
      "execution_count": null,
      "metadata": {
        "id": "Rv29JuftVdzO"
      },
      "outputs": [],
      "source": [
        "df['registration_tratada'].apply(categoria_idade).value_counts(dropna=False)"
      ]
    },
    {
      "cell_type": "code",
      "execution_count": null,
      "metadata": {
        "id": "kEn-01EUXj-d"
      },
      "outputs": [],
      "source": [
        "df['registration_tratada'] = df['registration_tratada'].apply(categoria_idade)"
      ]
    },
    {
      "cell_type": "code",
      "execution_count": null,
      "metadata": {
        "id": "luYMD8KcAQhb"
      },
      "outputs": [],
      "source": [
        "df['registration_tratada']"
      ]
    },
    {
      "cell_type": "markdown",
      "metadata": {
        "id": "8LFcCkhxJwQ2"
      },
      "source": [
        "2. Limpeza da variável `fuel type`\n",
        "\n",
        "Iremos remover as linhas preenchidas com o valor '5 Seats'"
      ]
    },
    {
      "cell_type": "code",
      "execution_count": null,
      "metadata": {
        "id": "962pqb2hb5AJ"
      },
      "outputs": [],
      "source": [
        "var_cat[1]"
      ]
    },
    {
      "cell_type": "code",
      "execution_count": null,
      "metadata": {
        "id": "mQo5rAZXV8pR"
      },
      "outputs": [],
      "source": [
        "df[var_cat[1]].value_counts(dropna=False)"
      ]
    },
    {
      "cell_type": "code",
      "execution_count": null,
      "metadata": {
        "id": "A5jWXaC1WQJb"
      },
      "outputs": [],
      "source": [
        "df = df[df[var_cat[1]] != '5 Seats']"
      ]
    },
    {
      "cell_type": "code",
      "execution_count": null,
      "metadata": {
        "id": "He3NYL4fAfQg"
      },
      "outputs": [],
      "source": [
        "df[var_cat[1]].value_counts()"
      ]
    },
    {
      "cell_type": "code",
      "execution_count": null,
      "metadata": {
        "id": "DtNiUwERAXbx"
      },
      "outputs": [],
      "source": [
        "df['registration_tratada'].value_counts(dropna=False)"
      ]
    },
    {
      "cell_type": "markdown",
      "metadata": {
        "id": "rsYvvw0qJwRR"
      },
      "source": [
        "3. Limpeza da variável `ownsership`\n",
        "\n",
        "Iremos manter apenas as categorias 'First Owner, 'Second Owner', 'Third Owner' e 'Fifth Owner'"
      ]
    },
    {
      "cell_type": "code",
      "execution_count": null,
      "metadata": {
        "id": "-9Vj_ZiWWVj4"
      },
      "outputs": [],
      "source": [
        "df[var_cat[2]].value_counts()"
      ]
    },
    {
      "cell_type": "code",
      "execution_count": null,
      "metadata": {
        "id": "DBMSrdh-WaiK"
      },
      "outputs": [],
      "source": [
        "def tratamento_ownsership(ownsership):\n",
        "  if ownsership in ['First Owner', 'Second Owner', 'Third Owner', 'Fifth Owner']:\n",
        "    return ownsership\n",
        "  else:\n",
        "    return 'None'"
      ]
    },
    {
      "cell_type": "code",
      "execution_count": null,
      "metadata": {
        "id": "fctGp36HWqOT"
      },
      "outputs": [],
      "source": [
        "df['ownsership_tratado'] = df.ownsership.apply(tratamento_ownsership)"
      ]
    },
    {
      "cell_type": "code",
      "execution_count": null,
      "metadata": {
        "id": "nvs54-ViAuWD"
      },
      "outputs": [],
      "source": [
        "df['ownsership_tratado'].value_counts()"
      ]
    },
    {
      "cell_type": "markdown",
      "metadata": {
        "id": "LTS2Bl8QJwRX"
      },
      "source": [
        "4. Limpeza da variável `transmission`\n",
        "\n",
        "Iremos manter apenas as categorias 'Manual' e 'Automatic'"
      ]
    },
    {
      "cell_type": "code",
      "execution_count": null,
      "metadata": {
        "id": "OUjUmQnmWx29"
      },
      "outputs": [],
      "source": [
        "df[var_cat[3]].value_counts()"
      ]
    },
    {
      "cell_type": "code",
      "execution_count": null,
      "metadata": {
        "id": "LSpWDZwGW4Qr"
      },
      "outputs": [],
      "source": [
        "df['transmission_tratado'] = df[var_cat[3]].apply(lambda x: x if x in ['Manual', 'Automatic'] else 'None')"
      ]
    },
    {
      "cell_type": "code",
      "execution_count": null,
      "metadata": {
        "id": "4J6cBpPnA2Dt"
      },
      "outputs": [],
      "source": [
        "df['transmission_tratado'].value_counts()"
      ]
    },
    {
      "cell_type": "code",
      "execution_count": null,
      "metadata": {
        "id": "g6hZVOHmXnh8"
      },
      "outputs": [],
      "source": [
        "var_cat = ['registration_tratada',\n",
        "           'fuel_type',\n",
        "           'ownsership_tratado',\n",
        "           'transmission_tratado']"
      ]
    },
    {
      "cell_type": "code",
      "execution_count": null,
      "metadata": {
        "id": "9O_MmC0xXvwd"
      },
      "outputs": [],
      "source": [
        "df_dummy = pd.get_dummies(df[var_cat + var_numerica],drop_first=True)"
      ]
    },
    {
      "cell_type": "code",
      "execution_count": null,
      "metadata": {
        "id": "g22XrRADXzLY"
      },
      "outputs": [],
      "source": [
        "df_dummy.head()"
      ]
    },
    {
      "cell_type": "code",
      "execution_count": null,
      "metadata": {
        "id": "by7086zZbmPA"
      },
      "outputs": [],
      "source": [
        "var_numerica.append('price')\n",
        "df_dummy = pd.get_dummies(df[var_cat + var_numerica],drop_first=True)\n",
        "df_dummy.to_csv('dado_tratado.csv', index=False)"
      ]
    },
    {
      "cell_type": "code",
      "execution_count": null,
      "metadata": {
        "id": "HOgh0P8Gci6w"
      },
      "outputs": [],
      "source": [
        "df_dummy"
      ]
    },
    {
      "cell_type": "markdown",
      "metadata": {
        "id": "CZBHPoCXX03m"
      },
      "source": [
        "### Variáveis one hot\n",
        "\n",
        "Variáveis one hot encoding é uma representação de uma variável categórica com k categorias em k variáveis, todas as novas variáveis são binárias.\n",
        "\n",
        "Exemplo:\n",
        "Variável faixa de idade\n",
        "\n",
        "|Variável original|0-18|18-30|30-50|50+|\n",
        "|---|---|---|---|---|\n",
        "|0-18|1|0|0|0|\n",
        "|18-30|0|1|0|0|\n",
        "|30-50|0|0|1|0|\n",
        "|50+|0|0|0|1|\n",
        "\n",
        "Para criar variáveis dummy iremos utilizar a função get_dummy do pacote Pandas\n",
        "\n",
        "Exemplo:\n",
        "``` python\n",
        "import pandas as pd\n",
        "df_dummy = pd.get_dummies(df)\n",
        "```\n",
        "\n",
        "Exercícios:\n",
        "\n",
        "Crie uma variável dummy com representação one-hot encoding para o dado tratado."
      ]
    },
    {
      "cell_type": "code",
      "source": [],
      "metadata": {
        "id": "sAixJkDaNKPa"
      },
      "execution_count": null,
      "outputs": []
    }
  ],
  "metadata": {
    "colab": {
      "provenance": []
    },
    "kernelspec": {
      "display_name": "Python 3",
      "name": "python3"
    },
    "language_info": {
      "name": "python"
    }
  },
  "nbformat": 4,
  "nbformat_minor": 0
}
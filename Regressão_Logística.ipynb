{
  "cells": [
    {
      "cell_type": "markdown",
      "metadata": {
        "id": "zxHUgPSFM1fc"
      },
      "source": [
        "# Regressão Logística\n",
        "---\n",
        "**Aula Prática 04**: Regressão Logística\n",
        "\n",
        "\n",
        "**Objetivo**: Treinar um modelo de classificação utilizando regressão logística.\n",
        "\n",
        "Banco de dados:\n",
        "\n",
        "\n",
        "**Breast cancer wisconsin dataset**\n",
        "Fonte: Disponível via `sklearn`\n",
        "\n",
        "**Descrição do Dataset**\n",
        "O conjunto de dados Breast Cancer Wisconsin contém características extraídas de imagens digitalizadas de aspirados por agulha fina (FNA) de massas mamárias. As características descrevem os núcleos das células presentes nas imagens.\n",
        "* ID number: Identificador único para cada amostra.\n",
        "* Diagnosis: Diagnóstico da amostra (0 = maligno, 1 = benigno).\n",
        "* Características (3-32): Dez características reais calculadas para cada núcleo celular:\n",
        "\n",
        "1. Radius: Média das distâncias do centro aos pontos no perímetro.\n",
        "2. Texture: Desvio padrão dos valores de escala de cinza.\n",
        "3. Perimeter: Perímetro do núcleo.\n",
        "4. Area: Área do núcleo.\n",
        "5. Smoothness: Variação local nos comprimentos dos raios.\n",
        "6. Compactness: (Perímetro² / Área) - 1.0.\n",
        "7. Concavity: Severidade das porções côncavas do contorno.\n",
        "8. Concave Points: Número de porções côncavas do contorno.\n",
        "9. Symmetry: Simetria do núcleo.\n",
        "10. Fractal Dimension: (\"Aproximação da linha costeira\" - 1)."
      ]
    },
    {
      "cell_type": "markdown",
      "metadata": {
        "id": "w1NLIkJMRP4U"
      },
      "source": [
        "## Import das principais funções e leitura dos dados\n",
        "\n",
        "\n",
        "---\n",
        "\n"
      ]
    },
    {
      "cell_type": "code",
      "execution_count": null,
      "metadata": {
        "id": "Wfg5H5k7QUoz"
      },
      "outputs": [],
      "source": [
        "import pandas as pd\n",
        "import numpy as np\n",
        "from sklearn import datasets"
      ]
    },
    {
      "cell_type": "code",
      "execution_count": null,
      "metadata": {
        "id": "cz13V0q4Q5ZJ"
      },
      "outputs": [],
      "source": [
        "data = datasets.load_breast_cancer()"
      ]
    },
    {
      "cell_type": "code",
      "execution_count": null,
      "metadata": {
        "id": "39H8czgiIvdT"
      },
      "outputs": [],
      "source": [
        "df = pd.DataFrame(data.data, columns=data.feature_names)"
      ]
    },
    {
      "cell_type": "code",
      "execution_count": null,
      "metadata": {
        "id": "do_VDG4RJICz"
      },
      "outputs": [],
      "source": [
        "target = pd.DataFrame(data.target, columns=['Target'])\n",
        "df = pd.concat([df, target], axis=1)"
      ]
    },
    {
      "cell_type": "code",
      "execution_count": null,
      "metadata": {
        "id": "gE2hH2_8SHHZ"
      },
      "outputs": [],
      "source": [
        "df.head()"
      ]
    },
    {
      "cell_type": "code",
      "execution_count": null,
      "metadata": {
        "id": "K94v4s0lSNC4"
      },
      "outputs": [],
      "source": [
        "df.shape"
      ]
    },
    {
      "cell_type": "code",
      "execution_count": null,
      "metadata": {
        "id": "iyj0P08tSR5M"
      },
      "outputs": [],
      "source": [
        "df.dtypes"
      ]
    },
    {
      "cell_type": "code",
      "execution_count": null,
      "metadata": {
        "id": "D4JMYa2ZJSto"
      },
      "outputs": [],
      "source": [
        "df.describe().T"
      ]
    },
    {
      "cell_type": "code",
      "execution_count": null,
      "metadata": {
        "id": "ILLAe7uGUag0"
      },
      "outputs": [],
      "source": [
        "df.Target.mean()"
      ]
    },
    {
      "cell_type": "markdown",
      "metadata": {
        "id": "M9mSwwoqRbef"
      },
      "source": [
        "## Treino de modelo de regressão Logística\n",
        "---\n",
        "\n",
        "\n",
        "Para treinar um modelo de regressão logística, utilizaremos o pacote `sklearn`.\n",
        "\n",
        "\n",
        "### Separação do banco entre treino e teste\n",
        "O primeiro passo para se treinar um modelo é separar o banco entre treino e teste. Para isso utilizaremos a função train_test_split\n",
        "\n",
        "\n",
        "``` python\n",
        "from sklearn.model_selection import train_test_split\n",
        "X_train, X_test, Y_train, Y_test = train_test_split(X, Y, test_size=.3, random_state=15)\n",
        "```\n",
        "* X: DataFrame contendo as features do modelo.\n",
        "* Y: DataFrame contendo a variável target.\n",
        "* test_size: Percentual de dados que será utilizado para teste (neste caso, 30%).\n",
        "* random_state: Controla a aleatoriedade da divisão dos dados, garantindo reprodutibilidade.\n",
        "\n",
        "Separar os dados em treino e teste é crucial para que possamos treinar o modelo com um conjunto de dados e avaliá-lo com outro, garantindo uma avaliação imparcial da performance do modelo.\n",
        "\n",
        "\n",
        "\n",
        "### Treinamento do Modelo\n",
        "Agora que já possuímos os dados de treino e teste, vamos treinar o nosso modelo de regressão logística utilizando o módulo `LogisticRegression`:\n",
        "\n",
        "``` python\n",
        "from sklearn.linear_model import LogisticRegression\n",
        "model = LogisticRegression(penalty='none')\n",
        "model.fit(X_train, Y_train)\n",
        "```\n",
        "\n",
        "No código acima, o objeto `model` é do tipo `LogisticRegression`. Ele será utilizado para ajustar o modelo, realizar predições e armazenar os coeficientes do modelo.\n",
        "\n",
        "Para acessar os coeficientes e o intercepto do modelo, bem como realizar predições, utilizamos os seguintes métodos:\n",
        "\n",
        "``` python\n",
        "# Para acessar os coeficientes\n",
        "model.coef_\n",
        "# Para acessar o intercepto\n",
        "model.intercept_\n",
        "# Para fazer predições de classes\n",
        "model.predict(X_test)\n",
        "# Para fazer predições de probabilidade\n",
        "model.predict_proba(X_test)\n",
        "```\n",
        "\n",
        "\n",
        "### Avaliação do modelo\n",
        "Para avaliar o modelo treinado, utilizaremos as métricas discutidas na aula teórica:\n",
        "\n",
        "``` python\n",
        "from sklearn.metrics import classification_report, confusion_matrix, roc_auc_score, roc_curve, RocCurveDisplay\n",
        "\n",
        "\n",
        "# Métricas acurácia, precisão, recall, f1-score\n",
        "print(classification_report(Y_test, Y_predit))\n",
        "\n",
        "\n",
        "# Matriz de confusão\n",
        "confusion_matrix(Y_test, Y_predit)\n",
        "\n",
        "\n",
        "# AUC\n",
        "roc_auc = roc_auc_score(Y_test, Y_predict)\n",
        "fpr, tpr, thresholds = roc_curve(Y_test, Y_predict)\n",
        "display = RocCurveDisplay(fpr=fpr, tpr=tpr, roc_auc=roc_auc)\n",
        "display.plot()\n",
        "```\n",
        "\n",
        "\n",
        "Também é possível obter cada uma das métricas individualmente:\n",
        "\n",
        "``` python\n",
        "from sklearn.metrics import recall_score, precision_score, f1_score, accuracy_score\n",
        "\n",
        "\n",
        "recall_score(Y_test, Y_predict, pos_label=1)\n",
        "```\n",
        "\n",
        "\n",
        "### Primeiro modelo\n",
        "\n",
        "---\n",
        "\n",
        "Exercício:\n",
        "1. Separe os dados em treino e teste, utilizando 30% dos dados para o conjunto de teste. Faça a divisão com todas as variáveis.\n",
        "2. Treine um modelo de regressão logística.\n",
        "3. Qual é a interpretação do coeficiente para mean radius?\n",
        "4. Qual é a interpretação do coeficiente para mean concavity?\n",
        "5. Realize as análises de apuração do modelo.\n",
        "\n",
        "Dica:\n",
        "Para obter um DataFrame com os coeficientes e seus respectivos nomes, utilize o seguinte código:\n",
        "\n",
        "``` python\n",
        "pd.DataFrame(model.coef_.T, index=X_train.columns)\n",
        "```"
      ]
    },
    {
      "cell_type": "code",
      "execution_count": null,
      "metadata": {
        "id": "G4pgJuxgN_XX"
      },
      "outputs": [],
      "source": [
        "X = pd.DataFrame(data.data, columns=data.feature_names)\n",
        "Y = data.target"
      ]
    },
    {
      "cell_type": "markdown",
      "metadata": {
        "id": "sztPnLqBUBm4"
      },
      "source": [
        "#### Exercício:\n",
        "\n",
        "* Busca o limiar em que se obtém a melhor acurácia.\n",
        "\n",
        "Dica:\n",
        "Para realizar a busca faça:\n",
        "1. Gere o score de probabilidade\n",
        "2. Percorra uma lista de valores de limiar e a cada valor calcule a acurácia\n",
        "3. Obtenha o limiar com maior acurácia\n",
        "\n",
        "\n",
        "Para acessar P(Y=1) faça predict_proba()[:, 1]"
      ]
    },
    {
      "cell_type": "code",
      "execution_count": null,
      "metadata": {
        "id": "7zvLO1_iQUjW"
      },
      "outputs": [],
      "source": [
        "np.arange(0, 1, .1)"
      ]
    },
    {
      "cell_type": "code",
      "source": [],
      "metadata": {
        "id": "qYFUzLvyRoGZ"
      },
      "execution_count": null,
      "outputs": []
    },
    {
      "cell_type": "markdown",
      "metadata": {
        "id": "CiWAhbMEXZAp"
      },
      "source": [
        "#### Exercício:\n",
        "\n",
        "\n",
        "* Construa um gráfico que analise os valores de precisão, recall e f1 score para cada limiar.\n",
        "\n",
        "\n",
        "Dica:\n",
        "Para realizar a busca faça:\n",
        "1. Gere o score de probabilidade\n",
        "2. Percorra uma lista de valores de limiar e a cada valor calcule as métricas e salve em uma lista\n",
        "\n",
        "\n",
        "Construa um dataframe através dessa lista\n",
        "Utilize a função de line do plotly.express para gerar o gráfico.\n",
        "\n",
        "\n",
        "``` python\n",
        "import plotly.express as px\n",
        "px.line(df, x='limiar', y=['precisao', 'recall', 'f1'])\n",
        "```"
      ]
    }
  ],
  "metadata": {
    "colab": {
      "provenance": [],
      "toc_visible": true
    },
    "kernelspec": {
      "display_name": "Python 3",
      "name": "python3"
    },
    "language_info": {
      "name": "python"
    }
  },
  "nbformat": 4,
  "nbformat_minor": 0
}
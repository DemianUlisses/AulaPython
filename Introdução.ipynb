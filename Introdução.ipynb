{
  "cells": [
    {
      "cell_type": "markdown",
      "metadata": {
        "id": "zxHUgPSFM1fc"
      },
      "source": [
        "# Introdução à Análise Exploratória de Dados (EDA)\n",
        "---\n",
        "**Aula Prática 01**: Tratamento de dados\n",
        "\n",
        "**Objetivo**: Entender a importância da análise exploratória de dados e aprender técnicas básicas para explorar e descrever dados.\n",
        "\n",
        "A análise exploratória de dados (EDA) é uma etapa crucial no processo de análise de dados. Ela nos ajuda a entender a estrutura dos dados, identificar padrões, detectar anomalias e testar hipóteses. Nesta aula, vamos aprender a realizar EDA usando o Pandas e o Plotly em Python.\n",
        "\n",
        "**Banco de dados**: Preço de carros usados\n",
        "\n",
        "[Disponivel no kaggle](https://www.kaggle.com/datasets/rishabhkarn/used-car-dataset/data)\n",
        "\n",
        "\n",
        "[Disponível para download](https://drive.google.com/file/d/1Ny6GypPH4AtJi6CJHmEUEI3KN11hDuGG/view?usp=drive_link)\n",
        "\n",
        "Descrição dos dados:\n",
        "* car_name: nome do carro\n",
        "* registration_year: ano de registro\n",
        "* insurance_validity: tipo de seguro\n",
        "* fuel_type: tipo de combustível\n",
        "* seats: número de assentos\n",
        "* kms_drive: total km dirigidos\n",
        "* ownsership: número de proprietários\n",
        "* transmission: tipo de câmbio\n",
        "* manufacturing_year: ano de fabricação\n",
        "* mileage(kmpl): km por litro\n",
        "* engine (cc): tamanho do motor\n",
        "* max_power(bhp): potência do carro\n",
        "* torque(Nm): torque do motor\n",
        "* price (in lakhs): preço em lakhs (medida indiana para 100.000)"
      ]
    },
    {
      "cell_type": "markdown",
      "metadata": {
        "id": "w1NLIkJMRP4U"
      },
      "source": [
        "## Importação das Principais Funções e Leitura dos Dados\n",
        "---\n",
        "\n",
        "Vamos começar importando as bibliotecas necessárias. O Pandas é uma biblioteca poderosa para manipulação de dados, e o NumPy é útil para operações numéricas."
      ]
    },
    {
      "cell_type": "code",
      "execution_count": 1,
      "metadata": {
        "id": "Wfg5H5k7QUoz"
      },
      "outputs": [],
      "source": [
        "import pandas as pd #pacote para leitura dos dados\n",
        "import numpy as np"
      ]
    },
    {
      "cell_type": "markdown",
      "metadata": {
        "id": "P2qyXjzGnB3E"
      },
      "source": [
        "Em seguida, vamos carregar os dados. Você pode fazer o upload do arquivo diretamente no Colab."
      ]
    },
    {
      "cell_type": "code",
      "execution_count": 3,
      "metadata": {
        "id": "0gve6slKQttI"
      },
      "outputs": [
        {
          "ename": "ModuleNotFoundError",
          "evalue": "No module named 'google'",
          "output_type": "error",
          "traceback": [
            "\u001b[1;31m---------------------------------------------------------------------------\u001b[0m",
            "\u001b[1;31mModuleNotFoundError\u001b[0m                       Traceback (most recent call last)",
            "Cell \u001b[1;32mIn[3], line 7\u001b[0m\n\u001b[0;32m      1\u001b[0m \u001b[39m#opção 1 -> montar o drive no colab e acessar o arquivo\u001b[39;00m\n\u001b[0;32m      2\u001b[0m \u001b[39m#from google.colab import drive\u001b[39;00m\n\u001b[0;32m      3\u001b[0m \u001b[39m#drive.mount('/content/drive')\u001b[39;00m\n\u001b[0;32m      4\u001b[0m \n\u001b[0;32m      5\u001b[0m \n\u001b[0;32m      6\u001b[0m \u001b[39m#opção 2 -> fazer download e fazer upload por aqui\u001b[39;00m\n\u001b[1;32m----> 7\u001b[0m \u001b[39mfrom\u001b[39;00m \u001b[39mgoogle\u001b[39;00m \u001b[39mimport\u001b[39;00m files\n\u001b[0;32m      8\u001b[0m uploaded \u001b[39m=\u001b[39m files\u001b[39m.\u001b[39mupload()\n",
            "\u001b[1;31mModuleNotFoundError\u001b[0m: No module named 'google'"
          ]
        }
      ],
      "source": [
        "#opção 1 -> montar o drive no colab e acessar o arquivo\n",
        "#from google.colab import drive\n",
        "#drive.mount('/content/drive')\n",
        "\n",
        "\n",
        "#opção 2 -> fazer download e fazer upload por aqui\n",
        "from google import files\n",
        "uploaded = files.upload()"
      ]
    },
    {
      "cell_type": "code",
      "execution_count": 4,
      "metadata": {
        "id": "cz13V0q4Q5ZJ"
      },
      "outputs": [],
      "source": [
        "path = 'Used Car Dataset.csv'\n",
        "df = pd.read_csv(path)"
      ]
    },
    {
      "cell_type": "markdown",
      "metadata": {
        "id": "1fvORtT6nB3F"
      },
      "source": [
        "#### Visualização Inicial dos Dados\n",
        "Adicionar explicações sobre o que cada função faz.\n",
        "\n",
        "A função head() exibe as primeiras 5 linhas do DataFrame. Isso nos dá uma ideia de como os dados estão organizados.\n",
        "\n",
        "Também podemos verificar o tamanho do DataFrame e os tipos de dados em cada coluna."
      ]
    },
    {
      "cell_type": "code",
      "execution_count": 6,
      "metadata": {
        "id": "gE2hH2_8SHHZ"
      },
      "outputs": [
        {
          "data": {
            "text/html": [
              "<div>\n",
              "<style scoped>\n",
              "    .dataframe tbody tr th:only-of-type {\n",
              "        vertical-align: middle;\n",
              "    }\n",
              "\n",
              "    .dataframe tbody tr th {\n",
              "        vertical-align: top;\n",
              "    }\n",
              "\n",
              "    .dataframe thead th {\n",
              "        text-align: right;\n",
              "    }\n",
              "</style>\n",
              "<table border=\"1\" class=\"dataframe\">\n",
              "  <thead>\n",
              "    <tr style=\"text-align: right;\">\n",
              "      <th></th>\n",
              "      <th>Unnamed: 0</th>\n",
              "      <th>car_name</th>\n",
              "      <th>registration_year</th>\n",
              "      <th>insurance_validity</th>\n",
              "      <th>fuel_type</th>\n",
              "      <th>seats</th>\n",
              "      <th>kms_driven</th>\n",
              "      <th>ownsership</th>\n",
              "      <th>transmission</th>\n",
              "      <th>manufacturing_year</th>\n",
              "      <th>mileage(kmpl)</th>\n",
              "      <th>engine(cc)</th>\n",
              "      <th>max_power(bhp)</th>\n",
              "      <th>torque(Nm)</th>\n",
              "      <th>price(in lakhs)</th>\n",
              "    </tr>\n",
              "  </thead>\n",
              "  <tbody>\n",
              "    <tr>\n",
              "      <th>0</th>\n",
              "      <td>0</td>\n",
              "      <td>2017 Mercedes-Benz S-Class S400</td>\n",
              "      <td>Jul-17</td>\n",
              "      <td>Comprehensive</td>\n",
              "      <td>Petrol</td>\n",
              "      <td>5</td>\n",
              "      <td>56000</td>\n",
              "      <td>First Owner</td>\n",
              "      <td>Automatic</td>\n",
              "      <td>2017</td>\n",
              "      <td>7.81</td>\n",
              "      <td>2996.0</td>\n",
              "      <td>2996.0</td>\n",
              "      <td>333.0</td>\n",
              "      <td>63.75</td>\n",
              "    </tr>\n",
              "    <tr>\n",
              "      <th>1</th>\n",
              "      <td>1</td>\n",
              "      <td>2020 Nissan Magnite Turbo CVT XV Premium Opt BSVI</td>\n",
              "      <td>Jan-21</td>\n",
              "      <td>Comprehensive</td>\n",
              "      <td>Petrol</td>\n",
              "      <td>5</td>\n",
              "      <td>30615</td>\n",
              "      <td>First Owner</td>\n",
              "      <td>Automatic</td>\n",
              "      <td>2020</td>\n",
              "      <td>17.40</td>\n",
              "      <td>999.0</td>\n",
              "      <td>999.0</td>\n",
              "      <td>9863.0</td>\n",
              "      <td>8.99</td>\n",
              "    </tr>\n",
              "    <tr>\n",
              "      <th>2</th>\n",
              "      <td>2</td>\n",
              "      <td>2018 BMW X1 sDrive 20d xLine</td>\n",
              "      <td>Sep-18</td>\n",
              "      <td>Comprehensive</td>\n",
              "      <td>Diesel</td>\n",
              "      <td>5</td>\n",
              "      <td>24000</td>\n",
              "      <td>First Owner</td>\n",
              "      <td>Automatic</td>\n",
              "      <td>2018</td>\n",
              "      <td>20.68</td>\n",
              "      <td>1995.0</td>\n",
              "      <td>1995.0</td>\n",
              "      <td>188.0</td>\n",
              "      <td>23.75</td>\n",
              "    </tr>\n",
              "    <tr>\n",
              "      <th>3</th>\n",
              "      <td>3</td>\n",
              "      <td>2019 Kia Seltos GTX Plus</td>\n",
              "      <td>Dec-19</td>\n",
              "      <td>Comprehensive</td>\n",
              "      <td>Petrol</td>\n",
              "      <td>5</td>\n",
              "      <td>18378</td>\n",
              "      <td>First Owner</td>\n",
              "      <td>Manual</td>\n",
              "      <td>2019</td>\n",
              "      <td>16.50</td>\n",
              "      <td>1353.0</td>\n",
              "      <td>1353.0</td>\n",
              "      <td>13808.0</td>\n",
              "      <td>13.56</td>\n",
              "    </tr>\n",
              "    <tr>\n",
              "      <th>4</th>\n",
              "      <td>4</td>\n",
              "      <td>2019 Skoda Superb LK 1.8 TSI AT</td>\n",
              "      <td>Aug-19</td>\n",
              "      <td>Comprehensive</td>\n",
              "      <td>Petrol</td>\n",
              "      <td>5</td>\n",
              "      <td>44900</td>\n",
              "      <td>First Owner</td>\n",
              "      <td>Automatic</td>\n",
              "      <td>2019</td>\n",
              "      <td>14.67</td>\n",
              "      <td>1798.0</td>\n",
              "      <td>1798.0</td>\n",
              "      <td>17746.0</td>\n",
              "      <td>24.00</td>\n",
              "    </tr>\n",
              "  </tbody>\n",
              "</table>\n",
              "</div>"
            ],
            "text/plain": [
              "   Unnamed: 0                                           car_name  \\\n",
              "0           0                    2017 Mercedes-Benz S-Class S400   \n",
              "1           1  2020 Nissan Magnite Turbo CVT XV Premium Opt BSVI   \n",
              "2           2                       2018 BMW X1 sDrive 20d xLine   \n",
              "3           3                           2019 Kia Seltos GTX Plus   \n",
              "4           4                    2019 Skoda Superb LK 1.8 TSI AT   \n",
              "\n",
              "  registration_year insurance_validity fuel_type  seats  kms_driven  \\\n",
              "0            Jul-17      Comprehensive    Petrol      5       56000   \n",
              "1            Jan-21      Comprehensive    Petrol      5       30615   \n",
              "2            Sep-18      Comprehensive    Diesel      5       24000   \n",
              "3            Dec-19      Comprehensive    Petrol      5       18378   \n",
              "4            Aug-19      Comprehensive    Petrol      5       44900   \n",
              "\n",
              "    ownsership transmission manufacturing_year  mileage(kmpl)  engine(cc)  \\\n",
              "0  First Owner    Automatic               2017           7.81      2996.0   \n",
              "1  First Owner    Automatic               2020          17.40       999.0   \n",
              "2  First Owner    Automatic               2018          20.68      1995.0   \n",
              "3  First Owner       Manual               2019          16.50      1353.0   \n",
              "4  First Owner    Automatic               2019          14.67      1798.0   \n",
              "\n",
              "   max_power(bhp)  torque(Nm)  price(in lakhs)  \n",
              "0          2996.0       333.0            63.75  \n",
              "1           999.0      9863.0             8.99  \n",
              "2          1995.0       188.0            23.75  \n",
              "3          1353.0     13808.0            13.56  \n",
              "4          1798.0     17746.0            24.00  "
            ]
          },
          "execution_count": 6,
          "metadata": {},
          "output_type": "execute_result"
        }
      ],
      "source": [
        "df.head()"
      ]
    },
    {
      "cell_type": "code",
      "execution_count": 7,
      "metadata": {
        "id": "K94v4s0lSNC4"
      },
      "outputs": [
        {
          "data": {
            "text/plain": [
              "(1553, 15)"
            ]
          },
          "execution_count": 7,
          "metadata": {},
          "output_type": "execute_result"
        }
      ],
      "source": [
        "df.shape"
      ]
    },
    {
      "cell_type": "code",
      "execution_count": 8,
      "metadata": {
        "id": "iyj0P08tSR5M"
      },
      "outputs": [
        {
          "data": {
            "text/plain": [
              "Unnamed: 0              int64\n",
              "car_name               object\n",
              "registration_year      object\n",
              "insurance_validity     object\n",
              "fuel_type              object\n",
              "seats                   int64\n",
              "kms_driven              int64\n",
              "ownsership             object\n",
              "transmission           object\n",
              "manufacturing_year     object\n",
              "mileage(kmpl)         float64\n",
              "engine(cc)            float64\n",
              "max_power(bhp)        float64\n",
              "torque(Nm)            float64\n",
              "price(in lakhs)       float64\n",
              "dtype: object"
            ]
          },
          "execution_count": 8,
          "metadata": {},
          "output_type": "execute_result"
        }
      ],
      "source": [
        "df.dtypes"
      ]
    },
    {
      "cell_type": "markdown",
      "metadata": {
        "id": "M9mSwwoqRbef"
      },
      "source": [
        "## Análise Exploratória\n",
        "---\n",
        "Sugestões de análise exploratória\n",
        "\n",
        "* Para dados contínuos ou inteiros utilizar a função describe do pandas para obter estatísticas descritivas.\n",
        "* Utilizar visualizações como boxplot e histograma para dados numéricos\n",
        "* Utilizar visualizações como gráfico de barras para dados categóricos\n",
        "* Utilizar a função value_counts do pandas para contar a frequência de cada categoria\n",
        "* Realizar análise de correlação\n",
        "* Criar gráficos com mais de uma variável\n",
        "\n",
        "**Pergunta**\n",
        "\n",
        "Qual das nossas variáveis são contínuas e quais são discretas?"
      ]
    },
    {
      "cell_type": "code",
      "execution_count": 9,
      "metadata": {
        "id": "UWC__L7nVt2F"
      },
      "outputs": [],
      "source": [
        "#renomear as colunas\n",
        "\n",
        "df = df.rename(columns = {'mileage(kmpl)':'mileage',\n",
        "                          'engine(cc)':'engine',\n",
        "                          'max_power(bhp)': 'max_power',\n",
        "                          'torque(Nm)': 'torque',\n",
        "                          'price(in lakhs)': 'price'})\n",
        "\n",
        "df.drop(columns='Unnamed: 0', inplace=True)\n",
        "\n"
      ]
    },
    {
      "cell_type": "markdown",
      "metadata": {
        "id": "7TlDTGg6USn2"
      },
      "source": [
        "### Descritivas\n",
        "\n",
        "Vamos usar a função `describe()` do Pandas para obter estatísticas descritivas das variáveis numéricas.\n",
        "\n",
        "A função `describe()` retorna estatísticas como média, mediana, desvio padrão, valores mínimos e máximos, e os quartis.\n",
        "\n",
        "Para algumas estatísticas específicas, podemos usar funções próprias:\n",
        "\n",
        "* Média: `mean()`\n",
        "* Mediana: `median()`\n",
        "* Variância: `var()`\n",
        "* Quantis: `quantile()`\n",
        "\n",
        "Para variáveis categóricas, utilizamos a função `value_counts()`, que fornece a distribuição das categorias.\n",
        "\n",
        "* value_counts(): Conta a frequência de cada categoria em uma variável categórica.\n",
        "* value_counts(normalize=True): Conta a frequência de cada categoria em uma variável categórica, normalizando os valores para que a soma seja 1 (ou 100%).\n",
        "\n",
        "\n",
        "``` python\n",
        "#Descritiva dos dados\n",
        "df['col_numerica'].describe()\n",
        "\n",
        "df[['col_numerica_1', 'col_numerica_2']].describe()\n",
        "\n",
        "df['col_numerica'].mean()\n",
        "df['col_numerica'].median()\n",
        "df['col_numerica'].var()\n",
        "df['col_numerica'].quantile([.9, .95, .99])\n",
        "\n",
        "df['col_categorica'].value_counts()\n",
        "#Contagem normalizada (soma deve dar 100)\n",
        "df['col_categorica'].value_counts(normalize=True)\n",
        "```\n",
        "\n",
        "**Utilizando estes comandos, responda às perguntas:**\n",
        "* Qual a média da variável mileage?\n",
        "* Alguma variável apresenta presença de outliers (valores discrepantes)?\n",
        "* Quantas categorias há na variável fuel_type? Qual é a mais presente?"
      ]
    },
    {
      "cell_type": "code",
      "execution_count": null,
      "metadata": {
        "id": "qg4l8EKO7-1e"
      },
      "outputs": [],
      "source": []
    },
    {
      "cell_type": "markdown",
      "metadata": {
        "id": "4zsvZC5pWwLJ"
      },
      "source": [
        "### Visualização\n",
        "\n",
        "Iremos utilizar o pacote plotly\n",
        "\n",
        "Vamos criar algumas visualizações para entender melhor os dados.\n",
        "\n",
        "Boxplot\n",
        "Um boxplot é útil para identificar outliers e entender a distribuição dos dados.\n",
        "\n",
        "Histograma\n",
        "Um histograma mostra a distribuição de uma variável numérica.\n",
        "\n",
        "Gráfico de Barras\n",
        "Um gráfico de barras é útil para visualizar a frequência de categorias.\n",
        "\n",
        "``` python\n",
        "import plotly.express as px\n",
        "\n",
        "#Gráfico de violino (boxplot + distribuição)\n",
        "px.violin(data_frame=df, x='column')\n",
        "px.violin(data_frame=df, x='column', color='column_cat')\n",
        "px.violin(data_frame=df, x='column', box=True)\n",
        "\n",
        "#Histograma dos dados\n",
        "px.histogram(data_frame=df, x='column')\n",
        "px.histogram(data_frame=df, marginal='box')\n",
        "\n",
        "#Gráfico de barras\n",
        "px.bar(data_frame=df, x='column')\n",
        "```\n",
        "\n",
        "**Utilizando estes comandos responda as perguntas:**\n",
        "\n",
        "* Há outlier na variável mileage? Há um volume grande de outliers?\n",
        "* A distribuição de kms_driven é a mesma por fuel_type (remova a categoria em que fuel_type=5 seats)?\n",
        "* Para a variável ownership qual a categoria mais frequente?"
      ]
    },
    {
      "cell_type": "code",
      "execution_count": null,
      "metadata": {
        "id": "4rUhBrCTL5MZ"
      },
      "outputs": [],
      "source": [
        "df[df.fuel_type != '5 Seats'].shape"
      ]
    },
    {
      "cell_type": "code",
      "execution_count": null,
      "metadata": {
        "id": "-VDXSlpyL7az"
      },
      "outputs": [],
      "source": [
        "df[df.fuel_type.isin(['Petrol', 'Diesel'])]"
      ]
    },
    {
      "cell_type": "code",
      "execution_count": null,
      "metadata": {
        "id": "dohMBElc8Bp1"
      },
      "outputs": [],
      "source": []
    },
    {
      "cell_type": "markdown",
      "metadata": {
        "id": "SG0KLtcaRHfV"
      },
      "source": [
        "##Tratamento dos dados\n",
        "---\n",
        "\n",
        "\n",
        "* Dados duplicados\n",
        "* Dados faltantes\n",
        "* Dados estranhos\n",
        "\n",
        "\n",
        "```python\n",
        "# Indicativo se o dado é duplicado ou não\n",
        "df.duplicated()\n",
        "# Indicativo se o dado é duplicado ou não com referência a uma coluna\n",
        "df.duplicated(['colunas'])\n",
        "\n",
        "\n",
        "# Indicativo se o dado é na ou nulo\n",
        "df.isna()\n",
        "df.isnull()\n",
        "\n",
        "\n",
        "# Preencher dado faltante\n",
        "df['coluna'].fillna(valor)\n",
        "```\n",
        "\n",
        "Responda:\n",
        "* Há dados duplicados no banco? Quantos\n",
        "* Há campos com dados faltantes? Quais campos? Quantos?\n",
        "\n",
        "\n",
        "Faça:\n",
        "* Remova as duplicadas do dado\n",
        "* Preencha os na com a mediana\n",
        "* Remova as categorias estranhas para ownsership"
      ]
    },
    {
      "cell_type": "code",
      "execution_count": null,
      "metadata": {
        "id": "ZDfTJ91k8FAG"
      },
      "outputs": [],
      "source": []
    }
  ],
  "metadata": {
    "colab": {
      "collapsed_sections": [
        "idl1fuKB-1TJ",
        "2djMyQ6E--9F",
        "TFO95j5F_BLL"
      ],
      "provenance": [],
      "toc_visible": true
    },
    "kernelspec": {
      "display_name": "Python 3",
      "language": "python",
      "name": "python3"
    },
    "language_info": {
      "codemirror_mode": {
        "name": "ipython",
        "version": 3
      },
      "file_extension": ".py",
      "mimetype": "text/x-python",
      "name": "python",
      "nbconvert_exporter": "python",
      "pygments_lexer": "ipython3",
      "version": "3.12.6 (tags/v3.12.6:a4a2d2b, Sep  6 2024, 20:11:23) [MSC v.1940 64 bit (AMD64)]"
    },
    "vscode": {
      "interpreter": {
        "hash": "02038ab0f83a5bf906ce917beddd06ed5e6db1cf61fbfedaa85aae4ac565eb0a"
      }
    }
  },
  "nbformat": 4,
  "nbformat_minor": 0
}

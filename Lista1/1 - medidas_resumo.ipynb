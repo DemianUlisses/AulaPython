{
 "cells": [
  {
   "cell_type": "markdown",
   "id": "698249fa",
   "metadata": {},
   "source": [
    "### Medidas Resumo com Python\n",
    "\n",
    "#### Objetivos:\n",
    "- Aprender e calcular medidas de tendência central (média, mediana e moda).\n",
    "- Entender medidas de dispersão (variância, desvio padrão e amplitude).\n",
    "- Utilizar visualizações gráficas para analisar a distribuição dos dados."
   ]
  },
  {
   "cell_type": "markdown",
   "id": "95cf40a4",
   "metadata": {},
   "source": [
    "#### Dataset\n",
    "Vamos usar o dataset **`iris`** da biblioteca `seaborn`, que contém dados sobre o comprimento e largura de sépalas e pétalas de diferentes espécies de flores. O dataset é excelente para análise de dados básicos e gráficos.\n"
   ]
  },
  {
   "cell_type": "markdown",
   "id": "12e6a930",
   "metadata": {},
   "source": [
    "### 1. Importando Bibliotecas e Carregando o Dataset"
   ]
  },
  {
   "cell_type": "code",
   "execution_count": null,
   "id": "c8007fb0",
   "metadata": {},
   "outputs": [],
   "source": [
    "import numpy as np\n",
    "import pandas as pd\n",
    "import seaborn as sns\n",
    "import matplotlib.pyplot as plt\n",
    "from scipy import stats"
   ]
  },
  {
   "cell_type": "markdown",
   "id": "0125b172",
   "metadata": {},
   "source": [
    "#### Carregando o dataset iris"
   ]
  },
  {
   "cell_type": "code",
   "execution_count": null,
   "id": "0508353a",
   "metadata": {},
   "outputs": [],
   "source": [
    "df = sns.load_dataset('iris')"
   ]
  },
  {
   "cell_type": "code",
   "execution_count": null,
   "id": "9fcea9e9",
   "metadata": {},
   "outputs": [],
   "source": [
    "# Exibindo as primeiras linhas do dataset\n",
    "print(df.head())"
   ]
  },
  {
   "cell_type": "code",
   "execution_count": null,
   "id": "3c9e7bce",
   "metadata": {},
   "outputs": [],
   "source": [
    "# Excluindo a coluna categórica 'species' para realizar operações numéricas\n",
    "numeric_df = df.select_dtypes(include=['float64', 'int64'])"
   ]
  },
  {
   "cell_type": "markdown",
   "id": "89ab9383",
   "metadata": {},
   "source": [
    "### 2. Medidas de Tendência Central\n",
    "\n",
    "#### 2.1 Média\n",
    "A **média** é a soma dos valores dividida pelo número de observações."
   ]
  },
  {
   "cell_type": "code",
   "execution_count": null,
   "id": "986cf884",
   "metadata": {},
   "outputs": [],
   "source": [
    "# Calculando a média\n",
    "mean_values = numeric_df.mean()\n",
    "print(\"Média dos dados:\\n\", mean_values)"
   ]
  },
  {
   "cell_type": "markdown",
   "id": "82cc7940",
   "metadata": {},
   "source": [
    "#### 2.2 Mediana\n",
    "A **mediana** é o valor central de um conjunto de dados ordenados."
   ]
  },
  {
   "cell_type": "code",
   "execution_count": null,
   "id": "c9f20498",
   "metadata": {},
   "outputs": [],
   "source": [
    "# Calculando a mediana\n",
    "median_values = numeric_df.median()\n",
    "print(\"Mediana dos dados:\\n\", median_values)"
   ]
  },
  {
   "cell_type": "markdown",
   "id": "2a4acc67",
   "metadata": {},
   "source": [
    "#### 2.3 Moda\n",
    "A **moda** é o valor que mais se repete em um conjunto de dados."
   ]
  },
  {
   "cell_type": "code",
   "execution_count": null,
   "id": "48c06b03",
   "metadata": {},
   "outputs": [],
   "source": [
    "# Calculando a moda\n",
    "mode_values = numeric_df.mode().iloc[0]\n",
    "print(\"Moda dos dados:\\n\", mode_values)"
   ]
  },
  {
   "cell_type": "markdown",
   "id": "28f7bd88",
   "metadata": {},
   "source": [
    "#### 2.4 Assimetria Positiva (direita)\n",
    "Neste tipo de distribuição, a cauda da direita é mais longa. A média é maior que a mediana e a moda."
   ]
  },
  {
   "cell_type": "code",
   "execution_count": null,
   "id": "2973f8c5",
   "metadata": {},
   "outputs": [],
   "source": [
    "# Gerando dados com assimetria positiva (cauda à direita)\n",
    "data_pos_skew = np.random.lognormal(mean=0.0, sigma=1.0, size=1000)"
   ]
  },
  {
   "cell_type": "markdown",
   "id": "4cc4a628",
   "metadata": {},
   "source": [
    "#### 2.5 Distribuição Normal (simétrica)\n",
    "Neste tipo de distribuição, a média, mediana e moda são aproximadamente iguais, pois não há assimetria."
   ]
  },
  {
   "cell_type": "code",
   "execution_count": null,
   "id": "ce6f695d",
   "metadata": {},
   "outputs": [],
   "source": [
    "# Gerando dados com distribuição normal (simétrica)\n",
    "data_normal = np.random.normal(loc=0, scale=1, size=1000)"
   ]
  },
  {
   "cell_type": "markdown",
   "id": "be082533",
   "metadata": {},
   "source": [
    "#### 2.4 Assimetria Negativa (esquerda)\n",
    "Aqui, a cauda da esquerda é mais longa. A média é menor que a mediana e a moda."
   ]
  },
  {
   "cell_type": "code",
   "execution_count": null,
   "id": "7954d270",
   "metadata": {},
   "outputs": [],
   "source": [
    "# Gerando dados com assimetria negativa (cauda à esquerda)\n",
    "data_neg_skew = -np.random.lognormal(mean=0.0, sigma=1.0, size=1000)"
   ]
  },
  {
   "cell_type": "markdown",
   "id": "c74cf391",
   "metadata": {},
   "source": [
    "#### Função Auxiliar para Calcular e Exibir as Medidas Resumo\n",
    "Vamos criar uma função para calcular e exibir a média, mediana e moda para cada distribuição."
   ]
  },
  {
   "cell_type": "code",
   "execution_count": null,
   "id": "f26992c3",
   "metadata": {},
   "outputs": [],
   "source": [
    "def summary_statistics(data, name):\n",
    "    mean = np.mean(data)\n",
    "    median = np.median(data)\n",
    "    \n",
    "    # Podemos não ter moda -> valores repetidos.\n",
    "    mode_result = stats.mode(data, nan_policy='omit')\n",
    "    \n",
    "    # Verificando a existência da moda\n",
    "    try:\n",
    "        mode = mode_result.mode[0]\n",
    "    except IndexError:\n",
    "        mode = \"amodal\" \n",
    "    \n",
    "    print(f\"{name}:\\nMédia: {mean:.2f}, Mediana: {median:.2f}, Moda: {mode}\")\n",
    "    return mean, median, mode"
   ]
  },
  {
   "cell_type": "code",
   "execution_count": null,
   "id": "ae1ce462",
   "metadata": {},
   "outputs": [],
   "source": [
    "# Assimetria positiva\n",
    "mean_pos, median_pos, mode_pos = summary_statistics(data_pos_skew, \"Assimetria Positiva\")\n",
    "\n",
    "# Distribuição normal\n",
    "mean_norm, median_norm, mode_norm = summary_statistics(data_normal, \"Distribuição Normal\")\n",
    "\n",
    "# Assimetria negativa\n",
    "mean_neg, median_neg, mode_neg = summary_statistics(data_neg_skew, \"Assimetria Negativa\")"
   ]
  },
  {
   "cell_type": "markdown",
   "id": "86ea7f68",
   "metadata": {},
   "source": [
    "#### Comparação Gráfica"
   ]
  },
  {
   "cell_type": "code",
   "execution_count": null,
   "id": "09d6072f",
   "metadata": {},
   "outputs": [],
   "source": [
    "def plot_distribution(data, title, mean, median):\n",
    "    plt.figure(figsize=(8, 6))\n",
    "    sns.histplot(data, kde=True, bins=30, color='blue', alpha=0.6)\n",
    "    \n",
    "    plt.axvline(mean, color='red', linestyle='--', label=f'Média: {mean:.2f}')\n",
    "    plt.axvline(median, color='green', linestyle='-', label=f'Mediana: {median:.2f}')\n",
    "    #plt.axvline(mode, color='purple', linestyle='-.', label=f'Moda: {mode:.2f}')\n",
    "    \n",
    "    plt.title(title)\n",
    "    plt.legend()\n",
    "    plt.show()"
   ]
  },
  {
   "cell_type": "code",
   "execution_count": null,
   "id": "596fee2b",
   "metadata": {},
   "outputs": [],
   "source": [
    "# Assimetria positiva\n",
    "plot_distribution(data_pos_skew, \"Distribuição com Assimetria Positiva\", mean_pos, median_pos)\n",
    "\n",
    "# Distribuição normal\n",
    "plot_distribution(data_normal, \"Distribuição Normal\", mean_norm, median_norm)\n",
    "\n",
    "# Assimetria negativa\n",
    "plot_distribution(data_neg_skew, \"Distribuição com Assimetria Negativa\", mean_neg, median_neg)"
   ]
  },
  {
   "cell_type": "markdown",
   "id": "54bc4c18",
   "metadata": {},
   "source": [
    "### 3. Medidas de Dispersão\n",
    "\n",
    "#### 3.1 Variância\n",
    "A **variância** mede o quanto os valores se afastam da média."
   ]
  },
  {
   "cell_type": "code",
   "execution_count": null,
   "id": "7b8c254a",
   "metadata": {},
   "outputs": [],
   "source": [
    "# Calculando a variância\n",
    "variance_values = numeric_df.var()\n",
    "print(\"Variância dos dados:\\n\", variance_values)"
   ]
  },
  {
   "cell_type": "markdown",
   "id": "38e70b20",
   "metadata": {},
   "source": [
    "#### 3.2 Desvio Padrão\n",
    "O **desvio padrão** é a raiz quadrada da variância, representando a dispersão dos dados."
   ]
  },
  {
   "cell_type": "code",
   "execution_count": null,
   "id": "f377b4b5",
   "metadata": {},
   "outputs": [],
   "source": [
    "# Calculando o desvio padrão\n",
    "std_dev_values = numeric_df.std()\n",
    "print(\"Desvio padrão dos dados:\\n\", std_dev_values)"
   ]
  },
  {
   "cell_type": "markdown",
   "id": "864e0610",
   "metadata": {},
   "source": [
    "#### 3.3 Amplitude\n",
    "A **amplitude** é a diferença entre o maior e o menor valor de um conjunto de dados."
   ]
  },
  {
   "cell_type": "code",
   "execution_count": null,
   "id": "970b3817",
   "metadata": {},
   "outputs": [],
   "source": [
    "# Calculando a amplitude\n",
    "range_values = numeric_df.max() - numeric_df.min()\n",
    "print(\"Amplitude dos dados:\\n\", range_values)"
   ]
  },
  {
   "cell_type": "markdown",
   "id": "fb51cd3b",
   "metadata": {},
   "source": [
    "#### Exemplo \n",
    "Gerando dois conjuntos de dados com a mesma média, mas com dispersões diferentes"
   ]
  },
  {
   "cell_type": "code",
   "execution_count": null,
   "id": "5146542d",
   "metadata": {},
   "outputs": [],
   "source": [
    "np.random.seed(42)\n",
    "\n",
    "# Dados com baixa dispersão\n",
    "data_low_disp = np.random.normal(loc=50, scale=5, size=1000)\n",
    "\n",
    "# Dados com alta dispersão\n",
    "data_high_disp = np.random.normal(loc=50, scale=15, size=1000)"
   ]
  },
  {
   "cell_type": "code",
   "execution_count": null,
   "id": "57603110",
   "metadata": {},
   "outputs": [],
   "source": [
    "def dispersion_statistics(data, name):\n",
    "    mean = np.mean(data)\n",
    "    std_dev = np.std(data)\n",
    "    coef_var = (std_dev / mean) * 100 \n",
    "    \n",
    "    print(f\"{name}:\\nMédia: {mean:.2f}, Desvio Padrão: {std_dev:.2f}, Coeficiente de Variação: {coef_var:.2f}%\")\n",
    "    return mean, std_dev, coef_var"
   ]
  },
  {
   "cell_type": "code",
   "execution_count": null,
   "id": "5eefb9da",
   "metadata": {},
   "outputs": [],
   "source": [
    "# Baixa dispersão\n",
    "mean_low, std_low, cv_low = dispersion_statistics(data_low_disp, \"Baixa Dispersão\")\n",
    "\n",
    "# Alta dispersão\n",
    "mean_high, std_high, cv_high = dispersion_statistics(data_high_disp, \"Alta Dispersão\")"
   ]
  },
  {
   "cell_type": "code",
   "execution_count": null,
   "id": "5f034356",
   "metadata": {},
   "outputs": [],
   "source": [
    "def plot_distribution(data, title, mean):\n",
    "    plt.figure(figsize=(8, 6))\n",
    "    plt.hist(data, bins=30, alpha=0.6, color='blue', range=(0, 100))\n",
    "    plt.axvline(mean, color='red', linestyle='--', label=f'Média: {mean:.2f}')\n",
    "    \n",
    "    plt.title(title)\n",
    "    plt.xlabel('Valores')\n",
    "    plt.ylabel('Frequência')\n",
    "    plt.legend()\n",
    "    plt.show()"
   ]
  },
  {
   "cell_type": "code",
   "execution_count": null,
   "id": "cdec80c1",
   "metadata": {},
   "outputs": [],
   "source": [
    "# Plotando a distribuição com baixa dispersão\n",
    "plot_distribution(data_low_disp, \"Distribuição com Baixa Dispersão\", mean_low)\n",
    "\n",
    "# Plotando a distribuição com alta dispersão\n",
    "plot_distribution(data_high_disp, \"Distribuição com Alta Dispersão\", mean_high)"
   ]
  },
  {
   "cell_type": "markdown",
   "id": "5fff8d07",
   "metadata": {},
   "source": [
    "### 4. Visualizações Gráficas\n",
    "\n",
    "#### 4.1 Histograma\n",
    "Um **histograma** é uma representação gráfica da distribuição de um conjunto de dados."
   ]
  },
  {
   "cell_type": "code",
   "execution_count": null,
   "id": "5cd05037",
   "metadata": {},
   "outputs": [],
   "source": [
    "# Criando histogramas para cada característica do dataset iris\n",
    "numeric_df.hist(bins=10, figsize=(10, 8))\n",
    "plt.suptitle('Distribuição dos atributos do dataset Iris')\n",
    "plt.show()"
   ]
  },
  {
   "cell_type": "markdown",
   "id": "2f0f937a",
   "metadata": {},
   "source": [
    "#### 4.2 Boxplot\n",
    "Um **boxplot** visualiza a dispersão dos dados através de quartis, mostrando também os outliers."
   ]
  },
  {
   "cell_type": "code",
   "execution_count": null,
   "id": "5e7c89ca",
   "metadata": {},
   "outputs": [],
   "source": [
    "# Criando um boxplot para visualizar a dispersão dos dados\n",
    "plt.figure(figsize=(8, 6))\n",
    "sns.boxplot(data=numeric_df)\n",
    "plt.title('Boxplot dos atributos do dataset Iris')\n",
    "plt.show()"
   ]
  },
  {
   "cell_type": "markdown",
   "id": "02726b3a",
   "metadata": {},
   "source": [
    "#### 4.3 Gráfico de Dispersão\n",
    "Um **scatter plot** mostra a relação entre duas variáveis quantitativas."
   ]
  },
  {
   "cell_type": "code",
   "execution_count": null,
   "id": "1674c089",
   "metadata": {},
   "outputs": [],
   "source": [
    "# Scatter plot para ver a relação entre comprimento e largura das pétalas\n",
    "sns.scatterplot(x='petal_length', y='petal_width', data=df, hue='species')\n",
    "plt.title('Gráfico de Dispersão: Comprimento vs Largura das Pétalas')\n",
    "plt.show()"
   ]
  },
  {
   "cell_type": "markdown",
   "id": "c8fc94db",
   "metadata": {},
   "source": [
    "### 5. Conclusão\n",
    "\n",
    "Nesta aula, exploramos as principais **medidas de tendência central** e **dispersão** e como elas podem ser aplicadas para entender a distribuição de dados. As visualizações gráficas são essenciais para obter insights mais profundos sobre as características dos dados e suas distribuições.\n"
   ]
  }
 ],
 "metadata": {
  "kernelspec": {
   "display_name": "Python 3 (ipykernel)",
   "language": "python",
   "name": "python3"
  },
  "language_info": {
   "codemirror_mode": {
    "name": "ipython",
    "version": 3
   },
   "file_extension": ".py",
   "mimetype": "text/x-python",
   "name": "python",
   "nbconvert_exporter": "python",
   "pygments_lexer": "ipython3",
   "version": "3.11.5"
  }
 },
 "nbformat": 4,
 "nbformat_minor": 5
}

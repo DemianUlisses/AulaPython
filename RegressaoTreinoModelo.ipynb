{
  "cells": [
    {
      "cell_type": "markdown",
      "metadata": {
        "id": "wPe4zyAkaXU3"
      },
      "source": [
        "# Regressão - Treino do modelo\n",
        "---\n",
        "**Aula Prática 03**: Treinando modelo de regressão linear\n",
        "\n",
        "**Objetivo**: Este notebook é uma aula prática focada no treinamento de modelos de regressão linear. Ele abrange desde a importação e preparação dos dados até a construção e avaliação de modelos de regressão. O objetivo principal é fornecer uma compreensão prática de como treinar e avaliar modelos de regressão linear utilizando diferentes conjuntos de dados.\n",
        "\n",
        "Banco de dados:\n",
        "\n",
        "**Gorjeta em restaurante**:\n",
        "\n",
        "Dataset disponibilizado pelo pacote plotly\n",
        "\n",
        "\"One waiter recorded information about each tip he received over a period of a few months working in one restaurant. He collected several variables:\n",
        "\n",
        "* tip in dollars,\n",
        "\n",
        "* bill in dollars,\n",
        "\n",
        "* sex of the bill payer,\n",
        "\n",
        "* whether there were smokers in the party,\n",
        "\n",
        "* day of the week,\n",
        "\n",
        "* time of day,\n",
        "\n",
        "* size of the party.\"\n",
        "\n",
        "**Preço de carros usados**\n",
        "\n",
        "[Disponivel no kaggle](https://www.kaggle.com/datasets/rishabhkarn/used-car-dataset/data)\n",
        "\n",
        "[Disponível para download](https://drive.google.com/file/d/1Ny6GypPH4AtJi6CJHmEUEI3KN11hDuGG/view?usp=drive_link)\n",
        "\n",
        "Usaremos o dado tratado na aula 2"
      ]
    },
    {
      "cell_type": "markdown",
      "metadata": {
        "id": "K-LIzm41ax3o"
      },
      "source": [
        "## Import das principais funções e leitura dos dados\n",
        "\n",
        "\n",
        "---"
      ]
    },
    {
      "cell_type": "code",
      "execution_count": null,
      "metadata": {
        "id": "IeClxXVaazlo"
      },
      "outputs": [],
      "source": [
        "import pandas as pd #pacote para leitura dos dados\n",
        "import numpy as np\n",
        "import plotly.express as px"
      ]
    },
    {
      "cell_type": "code",
      "execution_count": null,
      "metadata": {
        "id": "DZNbQm18Ksso"
      },
      "outputs": [],
      "source": [
        "df_tips = px.data.tips()"
      ]
    },
    {
      "cell_type": "code",
      "execution_count": null,
      "metadata": {
        "id": "VXah87VpLh4G"
      },
      "outputs": [],
      "source": [
        "df_tips.head()"
      ]
    },
    {
      "cell_type": "code",
      "execution_count": null,
      "metadata": {
        "id": "5UxZr9mRauW0"
      },
      "outputs": [],
      "source": [
        "path = 'dado_tratado.csv'\n",
        "df = pd.read_csv(path)"
      ]
    },
    {
      "cell_type": "code",
      "execution_count": null,
      "metadata": {
        "id": "AHmnJLO_awNY"
      },
      "outputs": [],
      "source": [
        "df.head()"
      ]
    },
    {
      "cell_type": "markdown",
      "metadata": {
        "id": "Zx5RaivsLtCk"
      },
      "source": [
        "## Treino de modelo de regressão - dataset Tips\n",
        "\n",
        "---\n",
        "\n",
        "\n",
        "Para treinar um modelo de regressão utilizaremos o pacote sklearn.\n",
        "\n",
        "\n",
        "### Separação do banco entre treino e teste\n",
        "O primeiro passo para treinar um modelo é separar os dados em conjuntos de treino e teste. Para isso, utilizaremos a função `train_test_split` do `sklearn`.\n",
        "\n",
        "\n",
        "``` python\n",
        "from sklearn.model_selection import train_test_split\n",
        "X_train, X_test, Y_train, Y_test = train_test_split(X, Y, test_size=.3, random_state=15)\n",
        "```\n",
        "* X: DataFrame contendo as features do modelo.\n",
        "* Y: DataFrame contendo a variável target.\n",
        "* test_size: Percentual de dados que será utilizado para teste (neste caso, 30%).\n",
        "* random_state: Controla a aleatoriedade da divisão dos dados, garantindo reprodutibilidade.\n",
        "\n",
        "Separar os dados em treino e teste é crucial para que possamos treinar o modelo com um conjunto de dados e avaliá-lo com outro, garantindo uma avaliação imparcial da performance do modelo.\n",
        "\n",
        "### Treinamento do Modelo\n",
        "Com os dados de treino e teste preparados, vamos treinar o nosso modelo de regressão linear utilizando o módulo `LinearRegression` do `sklearn`.\n",
        "\n",
        "\n",
        "``` python\n",
        "from sklearn.linear_model import LinearRegression\n",
        "model = LinearRegression()\n",
        "model.fit(X_train, Y_train)\n",
        "```\n",
        "\n",
        "\n",
        "No código acima:\n",
        "* model: Objeto do tipo LinearRegression que será utilizado para ajustar o modelo, realizar predições e armazenar os coeficientes do modelo.\n",
        "\n",
        "\n",
        "``` python\n",
        "# Para acessar os coeficientes\n",
        "model.coef_\n",
        "# Para acessar o intercepto\n",
        "model.intercept_\n",
        "# Para fazer predições\n",
        "model.predict(Y_test)\n",
        "```\n",
        "\n",
        "\n",
        "### Avaliação do modelo\n",
        "Para avaliar o modelo treinado, utilizaremos as métricas discutidas na aula teórica: erro médio quadrado, erro médio absoluto e o coeficiente de determinação (R²).\n",
        "\n",
        "\n",
        "``` python\n",
        "from sklearn.metrics import mean_squared_error, mean_absolute_error, r2_score\n",
        "\n",
        "# Erro médio quadrado\n",
        "mean_squared_error(Y_test, Y_predict)\n",
        "\n",
        "# Erro médio absoluto\n",
        "mean_absolute_error(Y_test, Y_predict)\n",
        "\n",
        "# R2 score\n",
        "r2_score(Y_test, Y_predict)\n",
        "```\n",
        "\n",
        "* mean_squared_error: Calcula o erro médio quadrado entre os valores preditos e os valores reais.\n",
        "* mean_absolute_error: Calcula o erro médio absoluto entre os valores preditos e os valores reais.\n",
        "* r2_score: Calcula o coeficiente de determinação, que indica a proporção da variância dos dados que é explicada pelo modelo."
      ]
    },
    {
      "cell_type": "code",
      "execution_count": null,
      "metadata": {
        "id": "NXa0CyR_OKrU"
      },
      "outputs": [],
      "source": [
        "from sklearn.model_selection import train_test_split\n",
        "from sklearn.linear_model import LinearRegression\n",
        "from sklearn.metrics import mean_squared_error, mean_absolute_error, r2_score"
      ]
    },
    {
      "cell_type": "markdown",
      "metadata": {
        "id": "w4vRrsUFNsw6"
      },
      "source": [
        "### Análise e processamento do dado\n",
        "\n",
        "---\n",
        "\n",
        "Exercício:\n",
        "\n",
        "\n",
        "* Análise o banco de dados de tips através da correlação das variáveis, há correlação?\n",
        "* Análise as variáveis categóricas e crie variáveis dummy para elas.\n"
      ]
    },
    {
      "cell_type": "code",
      "source": [],
      "metadata": {
        "id": "IUWWXNB0U_XU"
      },
      "execution_count": null,
      "outputs": []
    },
    {
      "cell_type": "markdown",
      "metadata": {
        "id": "dM-VqZE4Nyq6"
      },
      "source": [
        "### Primeiro modelo\n",
        "\n",
        "\n",
        "---\n",
        "\n",
        "\n",
        "Exercício:\n",
        "\n",
        "\n",
        "1. Construção do Modelo:\n",
        "\n",
        "* Construa um modelo de regressão linear utilizando a variável total_bill para explicar a variável tip.\n",
        "* Utilize 30% dos dados para o conjunto de teste.\n",
        "\n",
        "2. Interpretação dos Coeficientes:\n",
        "* Coeficiente: Qual é a interpretação do coeficiente da variável total_bill?\n",
        "* Intercepto: Qual é a interpretação do intercepto do modelo?\n",
        "\n",
        "3. Análise do Modelo:\n",
        "\n",
        "* Realize as análises de apuração do modelo, incluindo métricas de avaliação como erro médio quadrado, erro médio absoluto e o coeficiente de determinação (R²).\n",
        "\n",
        "\n",
        "Dica:\n",
        "\n",
        "Ao utilizar uma única variável como preditora, é necessário modificar o formato dos dados para que eles sejam interpretados como uma matriz. Para isso, utilize o seguinte código:\n",
        "\n",
        "\n",
        "``` python\n",
        "model.fit(np.array(X_train).reshape(-1,1), Y_train)\n",
        "```\n"
      ]
    },
    {
      "cell_type": "code",
      "source": [],
      "metadata": {
        "id": "HX7DjTWEVCM4"
      },
      "execution_count": null,
      "outputs": []
    },
    {
      "cell_type": "markdown",
      "metadata": {
        "id": "WMygDv_6OQsA"
      },
      "source": [
        "### Modelo completo\n",
        "\n",
        "\n",
        "---\n",
        "Exercício:\n",
        "\n",
        "1. Construção do Modelo:\n",
        "\n",
        "* Construa um modelo de regressão linear utilizando todas as variáveis disponíveis no conjunto de dados.\n",
        "* Utilize 30% dos dados para o conjunto de teste.\n",
        "\n",
        "2. Interpretação dos Coeficientes:\n",
        "\n",
        "* Coeficientes: Qual é a interpretação dos coeficientes das variáveis preditoras?\n",
        "* Intercepto: Qual é a interpretação do intercepto do modelo?\n",
        "\n",
        "3. Análise do Modelo:\n",
        "\n",
        "* Realize a avaliação do modelo utilizando métricas como erro médio quadrado (MSE), erro médio absoluto (MAE) e o coeficiente de determinação (R²).\n",
        "* Compare este modelo com o modelo anterior. Este modelo é melhor?\n",
        "\n",
        "Dica:\n",
        "Para obter um DataFrame com os coeficientes e seus respectivos nomes, utilize o seguinte código:\n",
        "\n",
        "``` python\n",
        "pd.DataFrame(model.coef_, index=X_train.columns[X_train.columns!='tip'])\n",
        "```"
      ]
    },
    {
      "cell_type": "code",
      "execution_count": null,
      "metadata": {
        "id": "gUKgs_-1Sp3l"
      },
      "outputs": [],
      "source": [
        "variaveis = df_tips.columns[df_tips.columns!='tip']\n",
        "df_tips[variaveis]"
      ]
    },
    {
      "cell_type": "code",
      "execution_count": null,
      "metadata": {
        "id": "4T6U61eWTI1M"
      },
      "outputs": [],
      "source": [
        "col_change = df_tips.dtypes[df_tips.dtypes == bool].index\n",
        "for col in col_change:\n",
        "  df_tips[col] = df_tips[col].astype(int)"
      ]
    },
    {
      "cell_type": "code",
      "source": [],
      "metadata": {
        "id": "0PqsO_UvVEIN"
      },
      "execution_count": null,
      "outputs": []
    },
    {
      "cell_type": "markdown",
      "metadata": {
        "id": "78Da9a7-NfBV"
      },
      "source": [
        "## Treino de modelo de regressão - dataset preço carro\n",
        "\n",
        "---\n",
        "Exercício:\n",
        "1. Análise de Correlação:\n",
        "* Analise o conjunto de dados de preços de carros utilizando a matriz de correlação.\n",
        "* Identifique se há alguma variável fortemente correlacionada com o preço dos carros."
      ]
    },
    {
      "cell_type": "code",
      "source": [],
      "metadata": {
        "id": "DGejCDXNVHJ5"
      },
      "execution_count": null,
      "outputs": []
    },
    {
      "cell_type": "markdown",
      "metadata": {
        "id": "5qV7Cc_DPZmY"
      },
      "source": [
        "### Primeiro modelo\n",
        "\n",
        "---\n",
        "\n",
        "Exercício:\n",
        "\n",
        "1. Construção do Modelo:\n",
        "\n",
        "* Construa um modelo de regressão linear utilizando a variável kms_driven para prever a variável price.\n",
        "* Utilize 30% dos dados para o conjunto de teste.\n",
        "\n",
        "2. Interpretação dos Coeficientes:\n",
        "\n",
        "* Coeficiente: Qual é a interpretação do coeficiente da variável kms_driven?\n",
        "* Intercepto: Qual é a interpretação do intercepto do modelo?\n",
        "\n",
        "3. Análise do Modelo:\n",
        "\n",
        "* Realize a avaliação do modelo utilizando métricas como erro médio quadrado (MSE), erro médio absoluto (MAE) e o coeficiente de determinação (R²)."
      ]
    },
    {
      "cell_type": "code",
      "source": [],
      "metadata": {
        "id": "Ft7Ty_XMVLbC"
      },
      "execution_count": null,
      "outputs": []
    },
    {
      "cell_type": "markdown",
      "metadata": {
        "id": "f9K0UPGaPgvL"
      },
      "source": [
        "### Modelo completo\n",
        "---\n",
        "Exercício:\n",
        "\n",
        "1. Construção do Modelo:\n",
        "\n",
        "* Construa um modelo de regressão linear utilizando todas as variáveis disponíveis no conjunto de dados.\n",
        "* Utilize 30% dos dados para o conjunto de teste.\n",
        "\n",
        "2. Interpretação dos Coeficientes:\n",
        "\n",
        "* Coeficientes: Qual é a interpretação dos coeficientes das variáveis preditoras?\n",
        "* Intercepto: Qual é a interpretação do intercepto do modelo?\n",
        "\n",
        "3. Análise do Modelo:\n",
        "\n",
        "* Realize a avaliação do modelo utilizando métricas como erro médio quadrado (MSE), erro médio absoluto (MAE) e o coeficiente de determinação (R²).\n",
        "* Compare este modelo com o modelo anterior. Este modelo é melhor?\n",
        "\n",
        "4. Ajuste do Modelo com Dados Filtrados:\n",
        "\n",
        "* Remova as observações em que o preço (price) é maior que 90.\n",
        "* Treine um novo modelo com os dados filtrados.\n",
        "\n",
        "5. Interpretação dos Coeficientes (Modelo Filtrado):\n",
        "\n",
        "* Coeficientes: Qual é a interpretação dos coeficientes das variáveis preditoras no novo modelo?\n",
        "* Intercepto: Qual é a interpretação do intercepto do novo modelo?\n",
        "\n",
        "6. Visualização das Predições:\n",
        "\n",
        "* Plote um gráfico de predição vs. valor real.\n",
        "* Você percebe algo estranho no gráfico?\n"
      ]
    },
    {
      "cell_type": "code",
      "source": [],
      "metadata": {
        "id": "kQcTSRWvVNdk"
      },
      "execution_count": null,
      "outputs": []
    },
    {
      "cell_type": "markdown",
      "metadata": {
        "id": "WuRx82m3QuhN"
      },
      "source": [
        "### Transformação nos dados\n",
        "---\n",
        "Exercício:\n",
        "\n",
        "1. Transformação da Variável price:\n",
        "\n",
        "* Aplique a transformação logarítmica na variável price.\n",
        "\n",
        "2. Ajuste do Modelo:\n",
        "\n",
        "* Construa um modelo de regressão linear utilizando o logaritmo da variável price.\n",
        "\n",
        "3. Visualização das Predições:\n",
        "\n",
        "* Plote o exponencial das predições versus os valores reais.\n",
        "* Avalie se o modelo melhorou após a transformação."
      ]
    },
    {
      "cell_type": "code",
      "source": [],
      "metadata": {
        "id": "YUdHHb8hVO_m"
      },
      "execution_count": null,
      "outputs": []
    }
  ],
  "metadata": {
    "colab": {
      "provenance": []
    },
    "kernelspec": {
      "display_name": "Python 3",
      "name": "python3"
    },
    "language_info": {
      "name": "python"
    }
  },
  "nbformat": 4,
  "nbformat_minor": 0
}